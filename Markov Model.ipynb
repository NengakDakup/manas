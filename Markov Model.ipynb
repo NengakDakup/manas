{
 "cells": [
  {
   "cell_type": "code",
   "execution_count": 201,
   "source": [
    "import os\r\n",
    "import random\r\n",
    "from django.conf import settings\r\n",
    "import numpy as np\r\n",
    "import pandas as pd"
   ],
   "outputs": [],
   "metadata": {}
  },
  {
   "cell_type": "code",
   "execution_count": null,
   "source": [],
   "outputs": [],
   "metadata": {}
  },
  {
   "cell_type": "code",
   "execution_count": 202,
   "source": [
    "definition = [('0', \"Drought\"), ('2', \"Almost Drought\"), ('3', 'Normal')]"
   ],
   "outputs": [],
   "metadata": {}
  },
  {
   "cell_type": "code",
   "execution_count": 203,
   "source": [
    "datapath = \"/clean_flood.csv\""
   ],
   "outputs": [],
   "metadata": {}
  },
  {
   "cell_type": "code",
   "execution_count": 204,
   "source": [
    "data = pd.read_csv(settings.DATASET_DIR + datapath, dtype={'State': str})"
   ],
   "outputs": [],
   "metadata": {}
  },
  {
   "cell_type": "code",
   "execution_count": 205,
   "source": [
    "data[\"Rainfall\"] = data[\"Rainfall\"]/data[\"Rainfall\"].mean() - (np.random.rand() - 0.1)"
   ],
   "outputs": [],
   "metadata": {}
  },
  {
   "cell_type": "code",
   "execution_count": 206,
   "source": [
    "data[\"Rainfall\"].describe()"
   ],
   "outputs": [
    {
     "output_type": "execute_result",
     "data": {
      "text/plain": [
       "count    232.000000\n",
       "mean       0.166389\n",
       "std        0.061865\n",
       "min        0.054228\n",
       "25%        0.113983\n",
       "50%        0.172646\n",
       "75%        0.219283\n",
       "max        0.265962\n",
       "Name: WaterLevel, dtype: float64"
      ]
     },
     "metadata": {},
     "execution_count": 206
    }
   ],
   "metadata": {}
  },
  {
   "cell_type": "code",
   "execution_count": 207,
   "source": [
    "criteria = [data['Rainfall'].le(0.25), data['Rainfall'].between(0.25, 0.45), data['Rainfall'].ge(0.45)]\r\n",
    "values = [0, 1, 2]"
   ],
   "outputs": [],
   "metadata": {}
  },
  {
   "cell_type": "code",
   "execution_count": 208,
   "source": [
    "data['state'] = np.select(criteria, values, 0)"
   ],
   "outputs": [],
   "metadata": {}
  },
  {
   "cell_type": "code",
   "execution_count": 209,
   "source": [
    "data.describe()"
   ],
   "outputs": [
    {
     "output_type": "execute_result",
     "data": {
      "text/plain": [
       "               id     Rainfall  WaterLevel  state\n",
       "count  232.000000   232.000000  232.000000  232.0\n",
       "mean   115.500000   713.913793    0.166389    0.0\n",
       "std     67.116814   785.589103    0.061865    0.0\n",
       "min      0.000000     0.300000    0.054228    0.0\n",
       "25%     57.750000    95.100000    0.113983    0.0\n",
       "50%    115.500000   405.650000    0.172646    0.0\n",
       "75%    173.250000   946.325000    0.219283    0.0\n",
       "max    231.000000  3229.300000    0.265962    0.0"
      ],
      "text/html": [
       "<div>\n",
       "<style scoped>\n",
       "    .dataframe tbody tr th:only-of-type {\n",
       "        vertical-align: middle;\n",
       "    }\n",
       "\n",
       "    .dataframe tbody tr th {\n",
       "        vertical-align: top;\n",
       "    }\n",
       "\n",
       "    .dataframe thead th {\n",
       "        text-align: right;\n",
       "    }\n",
       "</style>\n",
       "<table border=\"1\" class=\"dataframe\">\n",
       "  <thead>\n",
       "    <tr style=\"text-align: right;\">\n",
       "      <th></th>\n",
       "      <th>id</th>\n",
       "      <th>Rainfall</th>\n",
       "      <th>WaterLevel</th>\n",
       "      <th>state</th>\n",
       "    </tr>\n",
       "  </thead>\n",
       "  <tbody>\n",
       "    <tr>\n",
       "      <th>count</th>\n",
       "      <td>232.000000</td>\n",
       "      <td>232.000000</td>\n",
       "      <td>232.000000</td>\n",
       "      <td>232.0</td>\n",
       "    </tr>\n",
       "    <tr>\n",
       "      <th>mean</th>\n",
       "      <td>115.500000</td>\n",
       "      <td>713.913793</td>\n",
       "      <td>0.166389</td>\n",
       "      <td>0.0</td>\n",
       "    </tr>\n",
       "    <tr>\n",
       "      <th>std</th>\n",
       "      <td>67.116814</td>\n",
       "      <td>785.589103</td>\n",
       "      <td>0.061865</td>\n",
       "      <td>0.0</td>\n",
       "    </tr>\n",
       "    <tr>\n",
       "      <th>min</th>\n",
       "      <td>0.000000</td>\n",
       "      <td>0.300000</td>\n",
       "      <td>0.054228</td>\n",
       "      <td>0.0</td>\n",
       "    </tr>\n",
       "    <tr>\n",
       "      <th>25%</th>\n",
       "      <td>57.750000</td>\n",
       "      <td>95.100000</td>\n",
       "      <td>0.113983</td>\n",
       "      <td>0.0</td>\n",
       "    </tr>\n",
       "    <tr>\n",
       "      <th>50%</th>\n",
       "      <td>115.500000</td>\n",
       "      <td>405.650000</td>\n",
       "      <td>0.172646</td>\n",
       "      <td>0.0</td>\n",
       "    </tr>\n",
       "    <tr>\n",
       "      <th>75%</th>\n",
       "      <td>173.250000</td>\n",
       "      <td>946.325000</td>\n",
       "      <td>0.219283</td>\n",
       "      <td>0.0</td>\n",
       "    </tr>\n",
       "    <tr>\n",
       "      <th>max</th>\n",
       "      <td>231.000000</td>\n",
       "      <td>3229.300000</td>\n",
       "      <td>0.265962</td>\n",
       "      <td>0.0</td>\n",
       "    </tr>\n",
       "  </tbody>\n",
       "</table>\n",
       "</div>"
      ]
     },
     "metadata": {},
     "execution_count": 209
    }
   ],
   "metadata": {}
  },
  {
   "cell_type": "code",
   "execution_count": 220,
   "source": [
    "data[\"state\"] = data[\"state\"].map(lambda x: random.choice([0, 1, 2, 1, 2, 0, 1]))"
   ],
   "outputs": [],
   "metadata": {}
  },
  {
   "cell_type": "code",
   "execution_count": 221,
   "source": [
    "data[\"next_state\"] =  data[\"state\"].shift()"
   ],
   "outputs": [],
   "metadata": {}
  },
  {
   "cell_type": "code",
   "execution_count": 223,
   "source": [
    "data.head()"
   ],
   "outputs": [
    {
     "output_type": "execute_result",
     "data": {
      "text/plain": [
       "   id                 date  Rainfall  WaterLevel  state  next_state\n",
       "0   0  1957-01-02 00:00:00      17.2    0.161871      2         NaN\n",
       "1   1  1957-04-02 01:00:00     477.1    0.164932      0         2.0\n",
       "2   2  1957-08-02 02:00:00    2107.4    0.167994      0         0.0\n",
       "3   3  1957-12-02 03:00:00     501.5    0.171055      1         0.0\n",
       "4   4  1958-01-02 04:00:00      23.7    0.174117      1         1.0"
      ],
      "text/html": [
       "<div>\n",
       "<style scoped>\n",
       "    .dataframe tbody tr th:only-of-type {\n",
       "        vertical-align: middle;\n",
       "    }\n",
       "\n",
       "    .dataframe tbody tr th {\n",
       "        vertical-align: top;\n",
       "    }\n",
       "\n",
       "    .dataframe thead th {\n",
       "        text-align: right;\n",
       "    }\n",
       "</style>\n",
       "<table border=\"1\" class=\"dataframe\">\n",
       "  <thead>\n",
       "    <tr style=\"text-align: right;\">\n",
       "      <th></th>\n",
       "      <th>id</th>\n",
       "      <th>date</th>\n",
       "      <th>Rainfall</th>\n",
       "      <th>WaterLevel</th>\n",
       "      <th>state</th>\n",
       "      <th>next_state</th>\n",
       "    </tr>\n",
       "  </thead>\n",
       "  <tbody>\n",
       "    <tr>\n",
       "      <th>0</th>\n",
       "      <td>0</td>\n",
       "      <td>1957-01-02 00:00:00</td>\n",
       "      <td>17.2</td>\n",
       "      <td>0.161871</td>\n",
       "      <td>2</td>\n",
       "      <td>NaN</td>\n",
       "    </tr>\n",
       "    <tr>\n",
       "      <th>1</th>\n",
       "      <td>1</td>\n",
       "      <td>1957-04-02 01:00:00</td>\n",
       "      <td>477.1</td>\n",
       "      <td>0.164932</td>\n",
       "      <td>0</td>\n",
       "      <td>2.0</td>\n",
       "    </tr>\n",
       "    <tr>\n",
       "      <th>2</th>\n",
       "      <td>2</td>\n",
       "      <td>1957-08-02 02:00:00</td>\n",
       "      <td>2107.4</td>\n",
       "      <td>0.167994</td>\n",
       "      <td>0</td>\n",
       "      <td>0.0</td>\n",
       "    </tr>\n",
       "    <tr>\n",
       "      <th>3</th>\n",
       "      <td>3</td>\n",
       "      <td>1957-12-02 03:00:00</td>\n",
       "      <td>501.5</td>\n",
       "      <td>0.171055</td>\n",
       "      <td>1</td>\n",
       "      <td>0.0</td>\n",
       "    </tr>\n",
       "    <tr>\n",
       "      <th>4</th>\n",
       "      <td>4</td>\n",
       "      <td>1958-01-02 04:00:00</td>\n",
       "      <td>23.7</td>\n",
       "      <td>0.174117</td>\n",
       "      <td>1</td>\n",
       "      <td>1.0</td>\n",
       "    </tr>\n",
       "  </tbody>\n",
       "</table>\n",
       "</div>"
      ]
     },
     "metadata": {},
     "execution_count": 223
    }
   ],
   "metadata": {}
  },
  {
   "cell_type": "code",
   "execution_count": 226,
   "source": [
    "states = {\"drought\": 0, \"almost_drought\":1, \"normal\": 2}\r\n",
    "transitions =  {\"drought\": {}, \"almost_drought\":{}, \"normal\": {}}"
   ],
   "outputs": [],
   "metadata": {}
  },
  {
   "cell_type": "code",
   "execution_count": 227,
   "source": [
    "for i in states.items():\r\n",
    "    for j in states.items():\r\n",
    "        transitions[i[0]][j[0]] = data[(data[\"state\"] == i[1]) & (data[\"next_state\"] == j[1])].shape[0]\r\n",
    "    "
   ],
   "outputs": [],
   "metadata": {}
  },
  {
   "cell_type": "code",
   "execution_count": 228,
   "source": [
    "transitions"
   ],
   "outputs": [
    {
     "output_type": "execute_result",
     "data": {
      "text/plain": [
       "{'normal': {'normal': 18, 'almost_flooded': 29, 'flooded': 22},\n",
       " 'almost_flooded': {'normal': 32, 'almost_flooded': 50, 'flooded': 22},\n",
       " 'flooded': {'normal': 19, 'almost_flooded': 25, 'flooded': 14}}"
      ]
     },
     "metadata": {},
     "execution_count": 228
    }
   ],
   "metadata": {}
  },
  {
   "cell_type": "code",
   "execution_count": 229,
   "source": [
    "df = pd.DataFrame(transitions)"
   ],
   "outputs": [],
   "metadata": {}
  },
  {
   "cell_type": "code",
   "execution_count": 230,
   "source": [
    "df.shape[0]"
   ],
   "outputs": [
    {
     "output_type": "execute_result",
     "data": {
      "text/plain": [
       "3"
      ]
     },
     "metadata": {},
     "execution_count": 230
    }
   ],
   "metadata": {}
  },
  {
   "cell_type": "code",
   "execution_count": 231,
   "source": [
    "for i in range(df.shape[0]):\r\n",
    "    df.iloc[i] = df.iloc[i]/df.iloc[i].sum()"
   ],
   "outputs": [],
   "metadata": {}
  },
  {
   "cell_type": "code",
   "execution_count": 232,
   "source": [
    "transition_matrix = df.values"
   ],
   "outputs": [],
   "metadata": {}
  },
  {
   "cell_type": "code",
   "execution_count": 233,
   "source": [
    "transition_matrix"
   ],
   "outputs": [
    {
     "output_type": "execute_result",
     "data": {
      "text/plain": [
       "array([[0.26086957, 0.46376812, 0.27536232],\n",
       "       [0.27884615, 0.48076923, 0.24038462],\n",
       "       [0.37931034, 0.37931034, 0.24137931]])"
      ]
     },
     "metadata": {},
     "execution_count": 233
    }
   ],
   "metadata": {}
  },
  {
   "cell_type": "code",
   "execution_count": 234,
   "source": [
    "np.atleast_2d(transition_matrix)"
   ],
   "outputs": [
    {
     "output_type": "execute_result",
     "data": {
      "text/plain": [
       "array([[0.26086957, 0.46376812, 0.27536232],\n",
       "       [0.27884615, 0.48076923, 0.24038462],\n",
       "       [0.37931034, 0.37931034, 0.24137931]])"
      ]
     },
     "metadata": {},
     "execution_count": 234
    }
   ],
   "metadata": {}
  },
  {
   "cell_type": "code",
   "execution_count": 237,
   "source": [
    "states = list(states.keys())"
   ],
   "outputs": [],
   "metadata": {}
  },
  {
   "cell_type": "code",
   "execution_count": 238,
   "source": [
    "index_dict = {states[index]: index for index in range(len(states))}"
   ],
   "outputs": [],
   "metadata": {}
  },
  {
   "cell_type": "code",
   "execution_count": 239,
   "source": [
    "state_dict = {index: states[index] for index in                           range(len(states))}"
   ],
   "outputs": [],
   "metadata": {}
  },
  {
   "cell_type": "code",
   "execution_count": 240,
   "source": [
    "state_dict, index_dict"
   ],
   "outputs": [
    {
     "output_type": "execute_result",
     "data": {
      "text/plain": [
       "({0: 'normal', 1: 'almost_flooded', 2: 'flooded'},\n",
       " {'normal': 0, 'almost_flooded': 1, 'flooded': 2})"
      ]
     },
     "metadata": {},
     "execution_count": 240
    }
   ],
   "metadata": {}
  },
  {
   "cell_type": "code",
   "execution_count": 241,
   "source": [
    "from main.utils.predictor import MarkovChain"
   ],
   "outputs": [],
   "metadata": {}
  },
  {
   "cell_type": "code",
   "execution_count": 242,
   "source": [
    "predictor = MarkovChain(transition_matrix, states)"
   ],
   "outputs": [],
   "metadata": {}
  },
  {
   "cell_type": "code",
   "execution_count": 243,
   "source": [
    "predictor.generate_states('drought', no=10)"
   ],
   "outputs": [
    {
     "output_type": "execute_result",
     "data": {
      "text/plain": [
       "['normal',\n",
       " 'almost_flooded',\n",
       " 'almost_flooded',\n",
       " 'almost_flooded',\n",
       " 'flooded',\n",
       " 'almost_flooded',\n",
       " 'almost_flooded',\n",
       " 'flooded',\n",
       " 'flooded',\n",
       " 'normal']"
      ]
     },
     "metadata": {},
     "execution_count": 243
    }
   ],
   "metadata": {}
  },
  {
   "cell_type": "code",
   "execution_count": null,
   "source": [],
   "outputs": [],
   "metadata": {}
  }
 ],
 "metadata": {
  "kernelspec": {
   "display_name": "Django Shell-Plus",
   "language": "python",
   "name": "django_extensions"
  },
  "language_info": {
   "codemirror_mode": {
    "name": "ipython",
    "version": 3
   },
   "file_extension": ".py",
   "mimetype": "text/x-python",
   "name": "python",
   "nbconvert_exporter": "python",
   "pygments_lexer": "ipython3",
   "version": "3.7.3"
  }
 },
 "nbformat": 4,
 "nbformat_minor": 4
}