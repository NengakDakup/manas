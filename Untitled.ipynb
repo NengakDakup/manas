{
 "cells": [
  {
   "cell_type": "code",
   "execution_count": 67,
   "metadata": {},
   "outputs": [],
   "source": [
    "from pomegranate import *\n",
    "import pandas as pd\n",
    "import numpy as np\n",
    "from main.utils.predictor import *\n",
    "from predict.settings import DATASET_DIR"
   ]
  },
  {
   "cell_type": "code",
   "execution_count": 68,
   "metadata": {},
   "outputs": [],
   "source": [
    "d1 = DiscreteDistribution({'A': 0.25, 'B': 0.75})\n",
    "d2 = ConditionalProbabilityTable([['A', 'A', 0.1],\n",
    "                                      ['A', 'B', 0.9],\n",
    "                                      ['B', 'A', 0.6],\n",
    "                                      ['B', 'B', 0.4]], [d1])\n",
    "d3 = ConditionalProbabilityTable([['A', 'A', 'A', 0.4],\n",
    "                                      ['A', 'A', 'B', 0.6],\n",
    "                                      ['A', 'B', 'A', 0.8],\n",
    "                                      ['A', 'B', 'B', 0.2],\n",
    "                                      ['B', 'A', 'A', 0.9],\n",
    "                                      ['B', 'A', 'B', 0.1],\n",
    "                                      ['B', 'B', 'A', 0.2],\n",
    "                                      ['B', 'B', 'B', 0.8]], [d1, d2])\n",
    "model = MarkovChain([d1, d2, d3])"
   ]
  },
  {
   "cell_type": "code",
   "execution_count": 72,
   "metadata": {},
   "outputs": [
    {
     "data": {
      "text/plain": [
       "[{\n",
       "     \"class\" :\"Distribution\",\n",
       "     \"dtype\" :\"str\",\n",
       "     \"name\" :\"DiscreteDistribution\",\n",
       "     \"parameters\" :[\n",
       "         {\n",
       "             \"A\" :0.25,\n",
       "             \"B\" :0.75\n",
       "         }\n",
       "     ],\n",
       "     \"frozen\" :false\n",
       " }, {\n",
       "     \"class\" : \"Distribution\",\n",
       "     \"name\" : \"ConditionalProbabilityTable\",\n",
       "     \"table\" : [\n",
       "         [\n",
       "             \"A\",\n",
       "             \"A\",\n",
       "             \"0.10000000000000002\"\n",
       "         ],\n",
       "         [\n",
       "             \"A\",\n",
       "             \"B\",\n",
       "             \"0.9\"\n",
       "         ],\n",
       "         [\n",
       "             \"B\",\n",
       "             \"A\",\n",
       "             \"0.6\"\n",
       "         ],\n",
       "         [\n",
       "             \"B\",\n",
       "             \"B\",\n",
       "             \"0.4\"\n",
       "         ]\n",
       "     ],\n",
       "     \"dtypes\" : [\n",
       "         \"str\",\n",
       "         \"str\",\n",
       "         \"float\"\n",
       "     ],\n",
       "     \"parents\" : [\n",
       "         {\n",
       "             \"class\" : \"Distribution\",\n",
       "             \"dtype\" : \"str\",\n",
       "             \"name\" : \"DiscreteDistribution\",\n",
       "             \"parameters\" : [\n",
       "                 {\n",
       "                     \"A\" : 0.25,\n",
       "                     \"B\" : 0.75\n",
       "                 }\n",
       "             ],\n",
       "             \"frozen\" : false\n",
       "         }\n",
       "     ]\n",
       " }, {\n",
       "     \"class\" : \"Distribution\",\n",
       "     \"name\" : \"ConditionalProbabilityTable\",\n",
       "     \"table\" : [\n",
       "         [\n",
       "             \"A\",\n",
       "             \"A\",\n",
       "             \"A\",\n",
       "             \"0.4\"\n",
       "         ],\n",
       "         [\n",
       "             \"A\",\n",
       "             \"A\",\n",
       "             \"B\",\n",
       "             \"0.6\"\n",
       "         ],\n",
       "         [\n",
       "             \"A\",\n",
       "             \"B\",\n",
       "             \"A\",\n",
       "             \"0.8\"\n",
       "         ],\n",
       "         [\n",
       "             \"A\",\n",
       "             \"B\",\n",
       "             \"B\",\n",
       "             \"0.2\"\n",
       "         ],\n",
       "         [\n",
       "             \"B\",\n",
       "             \"A\",\n",
       "             \"A\",\n",
       "             \"0.9\"\n",
       "         ],\n",
       "         [\n",
       "             \"B\",\n",
       "             \"A\",\n",
       "             \"B\",\n",
       "             \"0.10000000000000002\"\n",
       "         ],\n",
       "         [\n",
       "             \"B\",\n",
       "             \"B\",\n",
       "             \"A\",\n",
       "             \"0.2\"\n",
       "         ],\n",
       "         [\n",
       "             \"B\",\n",
       "             \"B\",\n",
       "             \"B\",\n",
       "             \"0.8\"\n",
       "         ]\n",
       "     ],\n",
       "     \"dtypes\" : [\n",
       "         \"str\",\n",
       "         \"str\",\n",
       "         \"str\",\n",
       "         \"float\"\n",
       "     ],\n",
       "     \"parents\" : [\n",
       "         {\n",
       "             \"class\" : \"Distribution\",\n",
       "             \"dtype\" : \"str\",\n",
       "             \"name\" : \"DiscreteDistribution\",\n",
       "             \"parameters\" : [\n",
       "                 {\n",
       "                     \"A\" : 0.25,\n",
       "                     \"B\" : 0.75\n",
       "                 }\n",
       "             ],\n",
       "             \"frozen\" : false\n",
       "         },\n",
       "         {\n",
       "             \"class\" : \"Distribution\",\n",
       "             \"name\" : \"ConditionalProbabilityTable\",\n",
       "             \"table\" : [\n",
       "                 [\n",
       "                     \"A\",\n",
       "                     \"A\",\n",
       "                     \"0.10000000000000002\"\n",
       "                 ],\n",
       "                 [\n",
       "                     \"A\",\n",
       "                     \"B\",\n",
       "                     \"0.9\"\n",
       "                 ],\n",
       "                 [\n",
       "                     \"B\",\n",
       "                     \"A\",\n",
       "                     \"0.6\"\n",
       "                 ],\n",
       "                 [\n",
       "                     \"B\",\n",
       "                     \"B\",\n",
       "                     \"0.4\"\n",
       "                 ]\n",
       "             ],\n",
       "             \"dtypes\" : [\n",
       "                 \"str\",\n",
       "                 \"str\",\n",
       "                 \"float\"\n",
       "             ],\n",
       "             \"parents\" : [\n",
       "                 {\n",
       "                     \"class\" : \"Distribution\",\n",
       "                     \"dtype\" : \"str\",\n",
       "                     \"name\" : \"DiscreteDistribution\",\n",
       "                     \"parameters\" : [\n",
       "                         {\n",
       "                             \"A\" : 0.25,\n",
       "                             \"B\" : 0.75\n",
       "                         }\n",
       "                     ],\n",
       "                     \"frozen\" : false\n",
       "                 }\n",
       "             ]\n",
       "         }\n",
       "     ]\n",
       " }]"
      ]
     },
     "execution_count": 72,
     "metadata": {},
     "output_type": "execute_result"
    }
   ],
   "source": [
    "model.distributions"
   ]
  },
  {
   "cell_type": "code",
   "execution_count": 69,
   "metadata": {},
   "outputs": [
    {
     "data": {
      "text/plain": [
       "-3.324236340526027"
      ]
     },
     "execution_count": 69,
     "metadata": {},
     "output_type": "execute_result"
    }
   ],
   "source": [
    "model.log_probability(['A', 'B', 'B', 'B'])"
   ]
  },
  {
   "cell_type": "code",
   "execution_count": 71,
   "metadata": {},
   "outputs": [
    {
     "data": {
      "text/plain": [
       "-4.710530701645918"
      ]
     },
     "execution_count": 71,
     "metadata": {},
     "output_type": "execute_result"
    }
   ],
   "source": [
    "model.log_probability(['A', 'B', 'B', 'A'])"
   ]
  },
  {
   "cell_type": "code",
   "execution_count": 27,
   "metadata": {},
   "outputs": [],
   "source": [
    "data = pd.read_csv(os.path.join(DATASET_DIR, f\"data1.csv\"))"
   ]
  },
  {
   "cell_type": "code",
   "execution_count": 28,
   "metadata": {},
   "outputs": [],
   "source": [
    "data[\"WaterLevel\"] = min_max_scaler(data[\"WaterLevel\"].values, 35.2)"
   ]
  },
  {
   "cell_type": "code",
   "execution_count": 50,
   "metadata": {},
   "outputs": [
    {
     "data": {
      "text/html": [
       "<div>\n",
       "<style scoped>\n",
       "    .dataframe tbody tr th:only-of-type {\n",
       "        vertical-align: middle;\n",
       "    }\n",
       "\n",
       "    .dataframe tbody tr th {\n",
       "        vertical-align: top;\n",
       "    }\n",
       "\n",
       "    .dataframe thead th {\n",
       "        text-align: right;\n",
       "    }\n",
       "</style>\n",
       "<table border=\"1\" class=\"dataframe\">\n",
       "  <thead>\n",
       "    <tr style=\"text-align: right;\">\n",
       "      <th></th>\n",
       "      <th>date</th>\n",
       "      <th>Rainfall</th>\n",
       "      <th>Dam cap</th>\n",
       "      <th>WaterLevel</th>\n",
       "      <th>State</th>\n",
       "      <th>state</th>\n",
       "    </tr>\n",
       "  </thead>\n",
       "  <tbody>\n",
       "    <tr>\n",
       "      <th>0</th>\n",
       "      <td>1957-01-02 00:00:00</td>\n",
       "      <td>17.2</td>\n",
       "      <td>2763.966</td>\n",
       "      <td>0.567097</td>\n",
       "      <td>0</td>\n",
       "      <td>N</td>\n",
       "    </tr>\n",
       "    <tr>\n",
       "      <th>1</th>\n",
       "      <td>1957-04-02 01:00:00</td>\n",
       "      <td>477.1</td>\n",
       "      <td>2763.966</td>\n",
       "      <td>0.583226</td>\n",
       "      <td>0</td>\n",
       "      <td>N</td>\n",
       "    </tr>\n",
       "    <tr>\n",
       "      <th>2</th>\n",
       "      <td>1957-08-02 02:00:00</td>\n",
       "      <td>2107.4</td>\n",
       "      <td>2763.966</td>\n",
       "      <td>0.599355</td>\n",
       "      <td>3513</td>\n",
       "      <td>N</td>\n",
       "    </tr>\n",
       "    <tr>\n",
       "      <th>3</th>\n",
       "      <td>1957-12-02 03:00:00</td>\n",
       "      <td>501.5</td>\n",
       "      <td>2763.966</td>\n",
       "      <td>0.615484</td>\n",
       "      <td>0</td>\n",
       "      <td>N</td>\n",
       "    </tr>\n",
       "    <tr>\n",
       "      <th>4</th>\n",
       "      <td>1958-01-02 04:00:00</td>\n",
       "      <td>23.7</td>\n",
       "      <td>2763.966</td>\n",
       "      <td>0.631613</td>\n",
       "      <td>0</td>\n",
       "      <td>N</td>\n",
       "    </tr>\n",
       "    <tr>\n",
       "      <th>...</th>\n",
       "      <td>...</td>\n",
       "      <td>...</td>\n",
       "      <td>...</td>\n",
       "      <td>...</td>\n",
       "      <td>...</td>\n",
       "      <td>...</td>\n",
       "    </tr>\n",
       "    <tr>\n",
       "      <th>227</th>\n",
       "      <td>2012-12-11 11:00:00</td>\n",
       "      <td>431.8</td>\n",
       "      <td>2171.387</td>\n",
       "      <td>0.005750</td>\n",
       "      <td>0</td>\n",
       "      <td>L</td>\n",
       "    </tr>\n",
       "    <tr>\n",
       "      <th>228</th>\n",
       "      <td>2013-01-11 12:00:00</td>\n",
       "      <td>14.9</td>\n",
       "      <td>2900.232</td>\n",
       "      <td>0.000000</td>\n",
       "      <td>0</td>\n",
       "      <td>L</td>\n",
       "    </tr>\n",
       "    <tr>\n",
       "      <th>229</th>\n",
       "      <td>2013-04-11 13:00:00</td>\n",
       "      <td>364.5</td>\n",
       "      <td>3346.624</td>\n",
       "      <td>0.000000</td>\n",
       "      <td>0</td>\n",
       "      <td>L</td>\n",
       "    </tr>\n",
       "    <tr>\n",
       "      <th>230</th>\n",
       "      <td>2013-08-11 14:00:00</td>\n",
       "      <td>2164.8</td>\n",
       "      <td>3346.624</td>\n",
       "      <td>0.000000</td>\n",
       "      <td>11087</td>\n",
       "      <td>L</td>\n",
       "    </tr>\n",
       "    <tr>\n",
       "      <th>231</th>\n",
       "      <td>2013-12-11 15:00:00</td>\n",
       "      <td>502.1</td>\n",
       "      <td>3346.624</td>\n",
       "      <td>0.000000</td>\n",
       "      <td>0</td>\n",
       "      <td>L</td>\n",
       "    </tr>\n",
       "  </tbody>\n",
       "</table>\n",
       "<p>232 rows × 6 columns</p>\n",
       "</div>"
      ],
      "text/plain": [
       "                    date  Rainfall   Dam cap  WaterLevel  State state\n",
       "0    1957-01-02 00:00:00      17.2  2763.966    0.567097      0     N\n",
       "1    1957-04-02 01:00:00     477.1  2763.966    0.583226      0     N\n",
       "2    1957-08-02 02:00:00    2107.4  2763.966    0.599355   3513     N\n",
       "3    1957-12-02 03:00:00     501.5  2763.966    0.615484      0     N\n",
       "4    1958-01-02 04:00:00      23.7  2763.966    0.631613      0     N\n",
       "..                   ...       ...       ...         ...    ...   ...\n",
       "227  2012-12-11 11:00:00     431.8  2171.387    0.005750      0     L\n",
       "228  2013-01-11 12:00:00      14.9  2900.232    0.000000      0     L\n",
       "229  2013-04-11 13:00:00     364.5  3346.624    0.000000      0     L\n",
       "230  2013-08-11 14:00:00    2164.8  3346.624    0.000000  11087     L\n",
       "231  2013-12-11 15:00:00     502.1  3346.624    0.000000      0     L\n",
       "\n",
       "[232 rows x 6 columns]"
      ]
     },
     "execution_count": 50,
     "metadata": {},
     "output_type": "execute_result"
    }
   ],
   "source": [
    "data"
   ]
  },
  {
   "cell_type": "code",
   "execution_count": 30,
   "metadata": {},
   "outputs": [],
   "source": [
    "criteria = [\n",
    "        data['WaterLevel'].le(0.25), \n",
    "        data['WaterLevel'].between(0.25, 0.75), \n",
    "        data['WaterLevel'].between(0.75, 0.98), \n",
    "        data['WaterLevel'].ge(0.98)]"
   ]
  },
  {
   "cell_type": "code",
   "execution_count": 31,
   "metadata": {},
   "outputs": [],
   "source": [
    "state_values = ['L', 'N', 'A', 'F']\n",
    "data['state'] = np.select(criteria, state_values, 'L')"
   ]
  },
  {
   "cell_type": "code",
   "execution_count": 32,
   "metadata": {},
   "outputs": [],
   "source": [
    "model = MarkovChain.from_samples(data['state'].values)"
   ]
  },
  {
   "cell_type": "code",
   "execution_count": 65,
   "metadata": {},
   "outputs": [
    {
     "data": {
      "text/plain": [
       "-2.9828841310761423"
      ]
     },
     "execution_count": 65,
     "metadata": {},
     "output_type": "execute_result"
    }
   ],
   "source": [
    "model.log_probability(['L', 'N'])"
   ]
  },
  {
   "cell_type": "code",
   "execution_count": 49,
   "metadata": {},
   "outputs": [
    {
     "ename": "TypeError",
     "evalue": "summarize() takes at least 1 positional argument (0 given)",
     "output_type": "error",
     "traceback": [
      "\u001b[0;31m---------------------------------------------------------------------------\u001b[0m",
      "\u001b[0;31mTypeError\u001b[0m                                 Traceback (most recent call last)",
      "\u001b[0;32m<ipython-input-49-a6ab2915c399>\u001b[0m in \u001b[0;36m<module>\u001b[0;34m\u001b[0m\n\u001b[0;32m----> 1\u001b[0;31m \u001b[0mmodel\u001b[0m\u001b[0;34m.\u001b[0m\u001b[0msummarize\u001b[0m\u001b[0;34m(\u001b[0m\u001b[0;34m)\u001b[0m\u001b[0;34m\u001b[0m\u001b[0;34m\u001b[0m\u001b[0m\n\u001b[0m",
      "\u001b[0;32m~/.virtualenvs/prj-web/lib/python3.7/site-packages/pomegranate/MarkovChain.pyx\u001b[0m in \u001b[0;36mpomegranate.MarkovChain.MarkovChain.summarize\u001b[0;34m()\u001b[0m\n",
      "\u001b[0;31mTypeError\u001b[0m: summarize() takes at least 1 positional argument (0 given)"
     ]
    }
   ],
   "source": [
    "model.summarize()"
   ]
  },
  {
   "cell_type": "code",
   "execution_count": null,
   "metadata": {},
   "outputs": [],
   "source": []
  }
 ],
 "metadata": {
  "kernelspec": {
   "display_name": "Django Shell-Plus",
   "language": "python",
   "name": "django_extensions"
  },
  "language_info": {
   "codemirror_mode": {
    "name": "ipython",
    "version": 3
   },
   "file_extension": ".py",
   "mimetype": "text/x-python",
   "name": "python",
   "nbconvert_exporter": "python",
   "pygments_lexer": "ipython3",
   "version": "3.7.3"
  }
 },
 "nbformat": 4,
 "nbformat_minor": 4
}
